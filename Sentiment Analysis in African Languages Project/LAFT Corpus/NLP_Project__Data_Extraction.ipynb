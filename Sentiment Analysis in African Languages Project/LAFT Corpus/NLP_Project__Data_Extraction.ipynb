{
  "cells": [
    {
      "cell_type": "code",
      "execution_count": null,
      "metadata": {
        "id": "QhibmdZi3tRU"
      },
      "outputs": [],
      "source": [
        "!pip install pdf2image pillow\n",
        "!pip install pytesseract\n",
        "!apt-get install poppler-utils\n",
        "!pip install PyPDF2\n",
        "!apt-get install tesseract-ocr\n",
        "!apt-get install libtesseract-dev"
      ]
    },
    {
      "cell_type": "markdown",
      "metadata": {
        "id": "RjG_BdQNFX_L"
      },
      "source": [
        "Multiple PDF Extractor"
      ]
    },
    {
      "cell_type": "code",
      "execution_count": null,
      "metadata": {
        "colab": {
          "background_save": true,
          "base_uri": "https://localhost:8080/",
          "height": 601
        },
        "id": "MLPMsI9AE3Ss",
        "outputId": "5d245d58-c823-4998-cac2-41cdab653c88"
      },
      "outputs": [
        {
          "name": "stdout",
          "output_type": "stream",
          "text": [
            "Processing /content/Magana-Jarice-Littafi-Na-Biyu.pdf...\n",
            "Processing pages 1 to 10...\n",
            "Processing pages 11 to 20...\n",
            "Processing pages 21 to 30...\n",
            "Processing pages 31 to 40...\n",
            "Processing pages 41 to 50...\n",
            "Processing pages 51 to 60...\n",
            "Processing pages 61 to 70...\n",
            "Processing pages 71 to 80...\n",
            "Processing pages 81 to 90...\n",
            "Processing pages 91 to 100...\n",
            "Processing pages 101 to 110...\n",
            "Processing pages 111 to 120...\n",
            "Processing pages 121 to 130...\n",
            "Processing pages 131 to 140...\n",
            "Processing pages 141 to 150...\n",
            "Processing pages 151 to 160...\n",
            "Processing pages 161 to 170...\n",
            "Processing pages 171 to 180...\n",
            "Processing pages 181 to 190...\n",
            "Processing pages 191 to 200...\n",
            "Processing pages 201 to 204...\n"
          ]
        },
        {
          "data": {
            "application/javascript": [
              "\n",
              "    async function download(id, filename, size) {\n",
              "      if (!google.colab.kernel.accessAllowed) {\n",
              "        return;\n",
              "      }\n",
              "      const div = document.createElement('div');\n",
              "      const label = document.createElement('label');\n",
              "      label.textContent = `Downloading \"${filename}\": `;\n",
              "      div.appendChild(label);\n",
              "      const progress = document.createElement('progress');\n",
              "      progress.max = size;\n",
              "      div.appendChild(progress);\n",
              "      document.body.appendChild(div);\n",
              "\n",
              "      const buffers = [];\n",
              "      let downloaded = 0;\n",
              "\n",
              "      const channel = await google.colab.kernel.comms.open(id);\n",
              "      // Send a message to notify the kernel that we're ready.\n",
              "      channel.send({})\n",
              "\n",
              "      for await (const message of channel.messages) {\n",
              "        // Send a message to notify the kernel that we're ready.\n",
              "        channel.send({})\n",
              "        if (message.buffers) {\n",
              "          for (const buffer of message.buffers) {\n",
              "            buffers.push(buffer);\n",
              "            downloaded += buffer.byteLength;\n",
              "            progress.value = downloaded;\n",
              "          }\n",
              "        }\n",
              "      }\n",
              "      const blob = new Blob(buffers, {type: 'application/binary'});\n",
              "      const a = document.createElement('a');\n",
              "      a.href = window.URL.createObjectURL(blob);\n",
              "      a.download = filename;\n",
              "      div.appendChild(a);\n",
              "      a.click();\n",
              "      div.remove();\n",
              "    }\n",
              "  "
            ],
            "text/plain": [
              "<IPython.core.display.Javascript object>"
            ]
          },
          "metadata": {},
          "output_type": "display_data"
        },
        {
          "data": {
            "application/javascript": [
              "download(\"download_aacd05d7-5391-4572-94fd-7a637dfbba96\", \"Magana-Jarice-Littafi-Na-Biyu_extracted_text.txt\", 390882)"
            ],
            "text/plain": [
              "<IPython.core.display.Javascript object>"
            ]
          },
          "metadata": {},
          "output_type": "display_data"
        },
        {
          "name": "stdout",
          "output_type": "stream",
          "text": [
            "Text extraction from /content/Magana-Jarice-Littafi-Na-Biyu.pdf complete. You can now download Magana-Jarice-Littafi-Na-Biyu_extracted_text.txt.\n",
            "Processing /content/Magana-Jarice-Littafi-Na-Daya.pdf...\n",
            "Processing pages 1 to 10...\n",
            "Processing pages 11 to 20...\n",
            "Processing pages 21 to 30...\n",
            "Processing pages 31 to 40...\n",
            "Processing pages 41 to 50...\n",
            "Processing pages 51 to 60...\n",
            "Processing pages 61 to 70...\n",
            "Processing pages 71 to 80...\n",
            "Processing pages 81 to 90...\n",
            "Processing pages 91 to 100...\n",
            "Processing pages 101 to 110...\n",
            "Processing pages 111 to 120...\n",
            "Processing pages 121 to 130...\n",
            "Processing pages 131 to 140...\n"
          ]
        },
        {
          "data": {
            "application/javascript": [
              "\n",
              "    async function download(id, filename, size) {\n",
              "      if (!google.colab.kernel.accessAllowed) {\n",
              "        return;\n",
              "      }\n",
              "      const div = document.createElement('div');\n",
              "      const label = document.createElement('label');\n",
              "      label.textContent = `Downloading \"${filename}\": `;\n",
              "      div.appendChild(label);\n",
              "      const progress = document.createElement('progress');\n",
              "      progress.max = size;\n",
              "      div.appendChild(progress);\n",
              "      document.body.appendChild(div);\n",
              "\n",
              "      const buffers = [];\n",
              "      let downloaded = 0;\n",
              "\n",
              "      const channel = await google.colab.kernel.comms.open(id);\n",
              "      // Send a message to notify the kernel that we're ready.\n",
              "      channel.send({})\n",
              "\n",
              "      for await (const message of channel.messages) {\n",
              "        // Send a message to notify the kernel that we're ready.\n",
              "        channel.send({})\n",
              "        if (message.buffers) {\n",
              "          for (const buffer of message.buffers) {\n",
              "            buffers.push(buffer);\n",
              "            downloaded += buffer.byteLength;\n",
              "            progress.value = downloaded;\n",
              "          }\n",
              "        }\n",
              "      }\n",
              "      const blob = new Blob(buffers, {type: 'application/binary'});\n",
              "      const a = document.createElement('a');\n",
              "      a.href = window.URL.createObjectURL(blob);\n",
              "      a.download = filename;\n",
              "      div.appendChild(a);\n",
              "      a.click();\n",
              "      div.remove();\n",
              "    }\n",
              "  "
            ],
            "text/plain": [
              "<IPython.core.display.Javascript object>"
            ]
          },
          "metadata": {},
          "output_type": "display_data"
        },
        {
          "data": {
            "application/javascript": [
              "download(\"download_e077b728-f807-4d11-8918-f6a81c751f29\", \"Magana-Jarice-Littafi-Na-Daya_extracted_text.txt\", 244090)"
            ],
            "text/plain": [
              "<IPython.core.display.Javascript object>"
            ]
          },
          "metadata": {},
          "output_type": "display_data"
        },
        {
          "name": "stdout",
          "output_type": "stream",
          "text": [
            "Text extraction from /content/Magana-Jarice-Littafi-Na-Daya.pdf complete. You can now download Magana-Jarice-Littafi-Na-Daya_extracted_text.txt.\n",
            "All PDF processing complete.\n"
          ]
        }
      ],
      "source": [
        "# Import necessary libraries\n",
        "import pytesseract\n",
        "from pdf2image import convert_from_path\n",
        "from PIL import Image\n",
        "from PyPDF2 import PdfReader\n",
        "\n",
        "# List of PDF paths\n",
        "pdf_paths = ['/content/Magana-Jarice-Littafi-Na-Biyu.pdf', '/content/Magana-Jarice-Littafi-Na-Daya.pdf']  # Add more PDF paths as needed\n",
        "\n",
        "# Process each PDF file in the list\n",
        "for pdf_path in pdf_paths:\n",
        "    print(f\"Processing {pdf_path}...\")\n",
        "\n",
        "    # Process the PDF in chunks to avoid running out of memory\n",
        "    start_page = 0\n",
        "    batch_size = 10  # Adjust the number of pages to fit within memory limits\n",
        "\n",
        "    # Get total number of pages in the current PDF\n",
        "    pdf_reader = PdfReader(pdf_path)\n",
        "    total_pages = len(pdf_reader.pages)\n",
        "\n",
        "    # Initialize a string to hold the extracted text for the current PDF\n",
        "    extracted_text = \"\"\n",
        "\n",
        "    # Iterate over the pages in batches\n",
        "    for batch_start in range(start_page, total_pages, batch_size):\n",
        "        print(f\"Processing pages {batch_start + 1} to {min(batch_start + batch_size, total_pages)}...\")\n",
        "\n",
        "        # Convert a batch of pages to images\n",
        "        pages = convert_from_path(pdf_path, dpi=300, first_page=batch_start + 1, last_page=min(batch_start + batch_size, total_pages))\n",
        "\n",
        "        # Perform OCR on each page\n",
        "        for page_num, page_image in enumerate(pages, start=batch_start):\n",
        "            text = pytesseract.image_to_string(page_image, lang='eng')  # Change 'eng' to the appropriate language code if necessary\n",
        "\n",
        "            # Append the extracted text with a separator for each page\n",
        "            extracted_text += f\"\\n--- Page {page_num + 1} ---\\n\"\n",
        "            extracted_text += text\n",
        "\n",
        "    # Save the extracted text to a file with a unique name based on the PDF file name\n",
        "    text_file_name = pdf_path.split('/')[-1].replace('.pdf', '_extracted_text.txt')\n",
        "    with open(text_file_name, 'w', encoding='utf-8') as f:\n",
        "        f.write(extracted_text)\n",
        "\n",
        "    # Download the extracted text file\n",
        "    from google.colab import files\n",
        "    files.download(text_file_name)\n",
        "\n",
        "    print(f\"Text extraction from {pdf_path} complete. You can now download {text_file_name}.\")\n",
        "\n",
        "print(\"All PDF processing complete.\")"
      ]
    },
    {
      "cell_type": "markdown",
      "metadata": {
        "id": "otmZFCrzFT7g"
      },
      "source": [
        "Single PDF Extractor"
      ]
    },
    {
      "cell_type": "code",
      "execution_count": null,
      "metadata": {
        "colab": {
          "base_uri": "https://localhost:8080/",
          "height": 565
        },
        "id": "td9vTDF96gRf",
        "outputId": "164ea50c-3862-4dd6-fd91-edfa6f475865"
      },
      "outputs": [
        {
          "name": "stdout",
          "output_type": "stream",
          "text": [
            "Processing pages 1 to 10...\n",
            "Processing pages 11 to 20...\n",
            "Processing pages 21 to 30...\n",
            "Processing pages 31 to 40...\n",
            "Processing pages 41 to 50...\n",
            "Processing pages 51 to 60...\n",
            "Processing pages 61 to 70...\n",
            "Processing pages 71 to 80...\n",
            "Processing pages 81 to 90...\n",
            "Processing pages 91 to 100...\n",
            "Processing pages 101 to 110...\n",
            "Processing pages 111 to 120...\n",
            "Processing pages 121 to 130...\n",
            "Processing pages 131 to 140...\n",
            "Processing pages 141 to 150...\n",
            "Processing pages 151 to 160...\n",
            "Processing pages 161 to 170...\n",
            "Processing pages 171 to 180...\n",
            "Processing pages 181 to 190...\n",
            "Processing pages 191 to 200...\n",
            "Processing pages 201 to 210...\n",
            "Processing pages 211 to 220...\n",
            "Processing pages 221 to 230...\n",
            "Processing pages 231 to 240...\n",
            "Processing pages 241 to 250...\n",
            "Processing pages 251 to 260...\n",
            "Processing pages 261 to 270...\n",
            "Processing pages 271 to 280...\n",
            "Processing pages 281 to 286...\n"
          ]
        },
        {
          "data": {
            "application/javascript": [
              "\n",
              "    async function download(id, filename, size) {\n",
              "      if (!google.colab.kernel.accessAllowed) {\n",
              "        return;\n",
              "      }\n",
              "      const div = document.createElement('div');\n",
              "      const label = document.createElement('label');\n",
              "      label.textContent = `Downloading \"${filename}\": `;\n",
              "      div.appendChild(label);\n",
              "      const progress = document.createElement('progress');\n",
              "      progress.max = size;\n",
              "      div.appendChild(progress);\n",
              "      document.body.appendChild(div);\n",
              "\n",
              "      const buffers = [];\n",
              "      let downloaded = 0;\n",
              "\n",
              "      const channel = await google.colab.kernel.comms.open(id);\n",
              "      // Send a message to notify the kernel that we're ready.\n",
              "      channel.send({})\n",
              "\n",
              "      for await (const message of channel.messages) {\n",
              "        // Send a message to notify the kernel that we're ready.\n",
              "        channel.send({})\n",
              "        if (message.buffers) {\n",
              "          for (const buffer of message.buffers) {\n",
              "            buffers.push(buffer);\n",
              "            downloaded += buffer.byteLength;\n",
              "            progress.value = downloaded;\n",
              "          }\n",
              "        }\n",
              "      }\n",
              "      const blob = new Blob(buffers, {type: 'application/binary'});\n",
              "      const a = document.createElement('a');\n",
              "      a.href = window.URL.createObjectURL(blob);\n",
              "      a.download = filename;\n",
              "      div.appendChild(a);\n",
              "      a.click();\n",
              "      div.remove();\n",
              "    }\n",
              "  "
            ],
            "text/plain": [
              "<IPython.core.display.Javascript object>"
            ]
          },
          "metadata": {},
          "output_type": "display_data"
        },
        {
          "data": {
            "application/javascript": [
              "download(\"download_568b852f-4917-4414-a3f4-94616139869c\", \"extracted_text.txt\", 434112)"
            ],
            "text/plain": [
              "<IPython.core.display.Javascript object>"
            ]
          },
          "metadata": {},
          "output_type": "display_data"
        },
        {
          "name": "stdout",
          "output_type": "stream",
          "text": [
            "Text extraction complete. You can now download the extracted_text.txt file.\n"
          ]
        }
      ],
      "source": [
        "# Import necessary libraries\n",
        "import pytesseract\n",
        "from pdf2image import convert_from_path\n",
        "from PIL import Image\n",
        "from PyPDF2 import PdfReader\n",
        "\n",
        "# Path to the scanned PDF file\n",
        "pdf_path = '/content/Magana_Jarice_3.pdf'\n",
        "\n",
        "# Process the PDF in chunks to avoid running out of memory\n",
        "start_page = 0\n",
        "batch_size = 10  # Adjust the number of pages to fit within memory limits\n",
        "\n",
        "# Get total number of pages first\n",
        "\n",
        "pdf_reader = PdfReader(pdf_path)\n",
        "total_pages = len(pdf_reader.pages)\n",
        "\n",
        "# Initialize a string to hold the extracted text\n",
        "extracted_text = \"\"\n",
        "\n",
        "# Iterate over the pages in batches\n",
        "for batch_start in range(start_page, total_pages, batch_size):\n",
        "    print(f\"Processing pages {batch_start + 1} to {min(batch_start + batch_size, total_pages)}...\")\n",
        "\n",
        "    # Convert a batch of pages to images\n",
        "    pages = convert_from_path(pdf_path, dpi=300, first_page=batch_start + 1, last_page=min(batch_start + batch_size, total_pages))\n",
        "\n",
        "    # Perform OCR on each page\n",
        "    for page_num, page_image in enumerate(pages, start=batch_start):\n",
        "        text = pytesseract.image_to_string(page_image, lang='eng')  # Assuming Hausa language\n",
        "\n",
        "        # Append the extracted text with a separator for each page\n",
        "        extracted_text += f\"\\n--- Page {page_num + 1} ---\\n\"\n",
        "        extracted_text += text\n",
        "\n",
        "# Save the extracted text to a file in Colab\n",
        "with open('extracted_text.txt', 'w', encoding='utf-8') as f:\n",
        "    f.write(extracted_text)\n",
        "\n",
        "# Download the extracted text file\n",
        "from google.colab import files\n",
        "files.download('extracted_text.txt')\n",
        "\n",
        "print(\"Text extraction complete. You can now download the extracted_text.txt file.\")"
      ]
    }
  ],
  "metadata": {
    "accelerator": "GPU",
    "colab": {
      "gpuType": "T4",
      "provenance": []
    },
    "kernelspec": {
      "display_name": "Python 3",
      "name": "python3"
    },
    "language_info": {
      "name": "python"
    }
  },
  "nbformat": 4,
  "nbformat_minor": 0
}